{
 "cells": [
  {
   "cell_type": "markdown",
   "id": "4af0d5d3",
   "metadata": {
    "papermill": {
     "duration": 0.004524,
     "end_time": "2023-10-05T09:09:38.486883",
     "exception": false,
     "start_time": "2023-10-05T09:09:38.482359",
     "status": "completed"
    },
    "tags": []
   },
   "source": [
    "### **Data COllection- Data Scraping With BeautifulSoup.**\n",
    "\n",
    "The code below scraps rent and buy data from **BuyRentKenya,** https://www.buyrentkenya.com/ and saves th data in csv file which is later moved into MySQL database. "
   ]
  },
  {
   "cell_type": "markdown",
   "id": "1e3efd7f",
   "metadata": {
    "papermill": {
     "duration": 0.002754,
     "end_time": "2023-10-05T09:09:38.495631",
     "exception": false,
     "start_time": "2023-10-05T09:09:38.492877",
     "status": "completed"
    },
    "tags": []
   },
   "source": [
    "##### **IMport Necessary Packages.** \n",
    "- I hope you remember what python packages are and how to install them. For example if  wanted to use pandas i would use the command:\n",
    "\n",
    "```pip install pandas```"
   ]
  },
  {
   "cell_type": "code",
   "execution_count": 1,
   "id": "a1fb71c5",
   "metadata": {
    "execution": {
     "iopub.execute_input": "2023-10-05T09:09:38.503385Z",
     "iopub.status.busy": "2023-10-05T09:09:38.503032Z",
     "iopub.status.idle": "2023-10-05T09:09:38.750402Z",
     "shell.execute_reply": "2023-10-05T09:09:38.749156Z"
    },
    "papermill": {
     "duration": 0.254707,
     "end_time": "2023-10-05T09:09:38.753299",
     "exception": false,
     "start_time": "2023-10-05T09:09:38.498592",
     "status": "completed"
    },
    "tags": []
   },
   "outputs": [],
   "source": [
    "import csv\n",
    "import os\n",
    "import time\n",
    "import requests\n",
    "from bs4 import BeautifulSoup"
   ]
  },
  {
   "cell_type": "markdown",
   "id": "c32bd6cb",
   "metadata": {
    "papermill": {
     "duration": 0.00389,
     "end_time": "2023-10-05T09:09:38.762226",
     "exception": false,
     "start_time": "2023-10-05T09:09:38.758336",
     "status": "completed"
    },
    "tags": []
   },
   "source": [
    "#### **Access the URL from which we want to scrap data from.**\n",
    "- For this case we want to access houses for sale so we will specify when accessing the url.\n"
   ]
  },
  {
   "cell_type": "code",
   "execution_count": 2,
   "id": "ae2fb0b1",
   "metadata": {
    "execution": {
     "iopub.execute_input": "2023-10-05T09:09:38.771786Z",
     "iopub.status.busy": "2023-10-05T09:09:38.770454Z",
     "iopub.status.idle": "2023-10-05T09:09:38.777086Z",
     "shell.execute_reply": "2023-10-05T09:09:38.775921Z"
    },
    "papermill": {
     "duration": 0.013894,
     "end_time": "2023-10-05T09:09:38.779502",
     "exception": false,
     "start_time": "2023-10-05T09:09:38.765608",
     "status": "completed"
    },
    "tags": []
   },
   "outputs": [],
   "source": [
    "url_base = 'https://www.buyrentkenya.com/houses-for-sale?page='\n",
    "headers = {'User-Agent': 'Mozilla/5.0'}"
   ]
  },
  {
   "cell_type": "markdown",
   "id": "0fd776be",
   "metadata": {
    "papermill": {
     "duration": 0.002864,
     "end_time": "2023-10-05T09:09:38.785735",
     "exception": false,
     "start_time": "2023-10-05T09:09:38.782871",
     "status": "completed"
    },
    "tags": []
   },
   "source": [
    "**Define an emply object to store our data**"
   ]
  },
  {
   "cell_type": "code",
   "execution_count": 3,
   "id": "3d1f944a",
   "metadata": {
    "execution": {
     "iopub.execute_input": "2023-10-05T09:09:38.794167Z",
     "iopub.status.busy": "2023-10-05T09:09:38.792976Z",
     "iopub.status.idle": "2023-10-05T09:09:38.798481Z",
     "shell.execute_reply": "2023-10-05T09:09:38.797629Z"
    },
    "papermill": {
     "duration": 0.01184,
     "end_time": "2023-10-05T09:09:38.800544",
     "exception": false,
     "start_time": "2023-10-05T09:09:38.788704",
     "status": "completed"
    },
    "tags": []
   },
   "outputs": [],
   "source": [
    "houses_data = []"
   ]
  },
  {
   "cell_type": "markdown",
   "id": "5fed2b0e",
   "metadata": {
    "papermill": {
     "duration": 0.002432,
     "end_time": "2023-10-05T09:09:38.806034",
     "exception": false,
     "start_time": "2023-10-05T09:09:38.803602",
     "status": "completed"
    },
    "tags": []
   },
   "source": [
    "**Logic to scrap house title, location, size and prices**"
   ]
  },
  {
   "cell_type": "raw",
   "id": "3beb0e49",
   "metadata": {
    "_cell_guid": "b1076dfc-b9ad-4769-8c92-a6c4dae69d19",
    "_uuid": "8f2839f25d086af736a60e9eeb907d3b93b6e0e5",
    "papermill": {
     "duration": 0.002246,
     "end_time": "2023-10-05T09:09:38.810760",
     "exception": false,
     "start_time": "2023-10-05T09:09:38.808514",
     "status": "completed"
    },
    "tags": []
   },
   "source": [
    "for page in range(1, 125):\n",
    "    url = url_base + str(page)\n",
    "    response = requests.get(url, headers=headers)\n",
    "    soup = BeautifulSoup(response.content, 'html.parser')\n",
    "\n",
    "    listings = soup.find_all('div', class_='px-5') \n",
    "\n",
    "    for listing in listings:\n",
    "        title = listing.find('span', class_='hidden').text.strip()\n",
    "        location = listing.find('p', class_='text-sm').text.strip()\n",
    "        size = listing.find('a', class_='text-grey-500').text.strip() \n",
    "        price = listing.find('div', {'class': 'flex justify-between items-center'}).text.strip()\n",
    "\n",
    "        houses_data.append({'title': title, 'location': location, 'size': size, 'selling price': price})"
   ]
  },
  {
   "cell_type": "markdown",
   "id": "3ba8fdf5",
   "metadata": {
    "papermill": {
     "duration": 0.002274,
     "end_time": "2023-10-05T09:09:38.815465",
     "exception": false,
     "start_time": "2023-10-05T09:09:38.813191",
     "status": "completed"
    },
    "tags": []
   },
   "source": [
    "**Logic to save our data in csv file**\n",
    "- csv for comma seperated values, there are very many files formats, like parquate, excel, json, xml etc. Please do more reasearch on this "
   ]
  },
  {
   "cell_type": "code",
   "execution_count": 4,
   "id": "f10e279c",
   "metadata": {
    "execution": {
     "iopub.execute_input": "2023-10-05T09:09:38.823451Z",
     "iopub.status.busy": "2023-10-05T09:09:38.822067Z",
     "iopub.status.idle": "2023-10-05T09:09:38.829101Z",
     "shell.execute_reply": "2023-10-05T09:09:38.828353Z"
    },
    "papermill": {
     "duration": 0.0135,
     "end_time": "2023-10-05T09:09:38.831513",
     "exception": false,
     "start_time": "2023-10-05T09:09:38.818013",
     "status": "completed"
    },
    "tags": []
   },
   "outputs": [],
   "source": [
    "# Get the path to the Kaggle Notebooks working directory\n",
    "working_directory = os.path.join('/kaggle/working')\n",
    "\n",
    "# Save the data to a CSV file in the Kaggle Notebooks working directory\n",
    "csv_file_path = os.path.join(working_directory, 'houses-for-sale.csv')\n",
    "with open(csv_file_path, 'w', newline='', encoding='utf-8') as f:\n",
    "    csv_writer = csv.DictWriter(f, fieldnames=['title', 'location', 'size', 'selling price'])\n",
    "    csv_writer.writeheader()\n",
    "    csv_writer.writerows(houses_data)"
   ]
  },
  {
   "cell_type": "markdown",
   "id": "36dfaa7b",
   "metadata": {
    "papermill": {
     "duration": 0.00248,
     "end_time": "2023-10-05T09:09:38.837105",
     "exception": false,
     "start_time": "2023-10-05T09:09:38.834625",
     "status": "completed"
    },
    "tags": []
   },
   "source": [
    "**Logic to copy data from our csv file into MySQL database**"
   ]
  }
 ],
 "metadata": {
  "kernelspec": {
   "display_name": "Python 3",
   "language": "python",
   "name": "python3"
  },
  "language_info": {
   "codemirror_mode": {
    "name": "ipython",
    "version": 3
   },
   "file_extension": ".py",
   "mimetype": "text/x-python",
   "name": "python",
   "nbconvert_exporter": "python",
   "pygments_lexer": "ipython3",
   "version": "3.10.12"
  },
  "papermill": {
   "default_parameters": {},
   "duration": 4.050718,
   "end_time": "2023-10-05T09:09:39.361883",
   "environment_variables": {},
   "exception": null,
   "input_path": "__notebook__.ipynb",
   "output_path": "__notebook__.ipynb",
   "parameters": {},
   "start_time": "2023-10-05T09:09:35.311165",
   "version": "2.4.0"
  }
 },
 "nbformat": 4,
 "nbformat_minor": 5
}
